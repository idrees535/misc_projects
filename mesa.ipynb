{
 "cells": [
  {
   "cell_type": "code",
   "execution_count": 1,
   "metadata": {},
   "outputs": [
    {
     "name": "stdout",
     "output_type": "stream",
     "text": [
      "Collecting mesa\n",
      "  Downloading Mesa-1.2.1-py3-none-any.whl (1.8 MB)\n",
      "Requirement already satisfied: tornado in c:\\users\\hijaz tr\\desktop\\cadcadproject1\\abcde\\lib\\site-packages (from mesa) (6.3.2)\n",
      "Requirement already satisfied: tqdm in c:\\users\\hijaz tr\\desktop\\cadcadproject1\\abcde\\lib\\site-packages (from mesa) (4.65.0)\n",
      "Requirement already satisfied: numpy in c:\\users\\hijaz tr\\desktop\\cadcadproject1\\abcde\\lib\\site-packages (from mesa) (1.23.5)\n",
      "Requirement already satisfied: click in c:\\users\\hijaz tr\\desktop\\cadcadproject1\\abcde\\lib\\site-packages (from mesa) (8.1.3)\n",
      "Requirement already satisfied: pandas in c:\\users\\hijaz tr\\desktop\\cadcadproject1\\abcde\\lib\\site-packages (from mesa) (2.0.1)\n",
      "Collecting cookiecutter\n",
      "  Downloading cookiecutter-2.2.2-py3-none-any.whl (38 kB)\n",
      "Requirement already satisfied: networkx in c:\\users\\hijaz tr\\desktop\\cadcadproject1\\abcde\\lib\\site-packages (from mesa) (3.1)\n",
      "Requirement already satisfied: colorama in c:\\users\\hijaz tr\\desktop\\cadcadproject1\\abcde\\lib\\site-packages (from click->mesa) (0.4.6)\n",
      "Requirement already satisfied: Jinja2<4.0.0,>=2.7 in c:\\users\\hijaz tr\\desktop\\cadcadproject1\\abcde\\lib\\site-packages (from cookiecutter->mesa) (3.1.2)\n",
      "Collecting python-slugify>=4.0.0\n",
      "  Downloading python_slugify-8.0.1-py2.py3-none-any.whl (9.7 kB)\n",
      "Collecting arrow\n",
      "  Downloading arrow-1.2.3-py3-none-any.whl (66 kB)\n",
      "Requirement already satisfied: pyyaml>=5.3.1 in c:\\users\\hijaz tr\\desktop\\cadcadproject1\\abcde\\lib\\site-packages (from cookiecutter->mesa) (6.0)\n",
      "Requirement already satisfied: requests>=2.23.0 in c:\\users\\hijaz tr\\desktop\\cadcadproject1\\abcde\\lib\\site-packages (from cookiecutter->mesa) (2.31.0)\n",
      "Collecting binaryornot>=0.4.4\n",
      "  Downloading binaryornot-0.4.4-py2.py3-none-any.whl (9.0 kB)\n",
      "Collecting chardet>=3.0.2\n",
      "  Downloading chardet-5.1.0-py3-none-any.whl (199 kB)\n",
      "Requirement already satisfied: MarkupSafe>=2.0 in c:\\users\\hijaz tr\\desktop\\cadcadproject1\\abcde\\lib\\site-packages (from Jinja2<4.0.0,>=2.7->cookiecutter->mesa) (2.1.3)\n",
      "Collecting text-unidecode>=1.3\n",
      "  Downloading text_unidecode-1.3-py2.py3-none-any.whl (78 kB)\n",
      "Requirement already satisfied: certifi>=2017.4.17 in c:\\users\\hijaz tr\\desktop\\cadcadproject1\\abcde\\lib\\site-packages (from requests>=2.23.0->cookiecutter->mesa) (2023.5.7)\n",
      "Requirement already satisfied: charset-normalizer<4,>=2 in c:\\users\\hijaz tr\\desktop\\cadcadproject1\\abcde\\lib\\site-packages (from requests>=2.23.0->cookiecutter->mesa) (3.1.0)\n",
      "Requirement already satisfied: urllib3<3,>=1.21.1 in c:\\users\\hijaz tr\\desktop\\cadcadproject1\\abcde\\lib\\site-packages (from requests>=2.23.0->cookiecutter->mesa) (1.26.16)\n",
      "Requirement already satisfied: idna<4,>=2.5 in c:\\users\\hijaz tr\\desktop\\cadcadproject1\\abcde\\lib\\site-packages (from requests>=2.23.0->cookiecutter->mesa) (3.4)\n",
      "Requirement already satisfied: python-dateutil>=2.7.0 in c:\\users\\hijaz tr\\desktop\\cadcadproject1\\abcde\\lib\\site-packages (from arrow->cookiecutter->mesa) (2.8.2)\n",
      "Requirement already satisfied: six>=1.5 in c:\\users\\hijaz tr\\desktop\\cadcadproject1\\abcde\\lib\\site-packages (from python-dateutil>=2.7.0->arrow->cookiecutter->mesa) (1.16.0)\n",
      "Requirement already satisfied: tzdata>=2022.1 in c:\\users\\hijaz tr\\desktop\\cadcadproject1\\abcde\\lib\\site-packages (from pandas->mesa) (2023.3)\n",
      "Requirement already satisfied: pytz>=2020.1 in c:\\users\\hijaz tr\\desktop\\cadcadproject1\\abcde\\lib\\site-packages (from pandas->mesa) (2023.3)\n",
      "Installing collected packages: text-unidecode, chardet, python-slugify, binaryornot, arrow, cookiecutter, mesa\n",
      "Successfully installed arrow-1.2.3 binaryornot-0.4.4 chardet-5.1.0 cookiecutter-2.2.2 mesa-1.2.1 python-slugify-8.0.1 text-unidecode-1.3\n"
     ]
    },
    {
     "name": "stderr",
     "output_type": "stream",
     "text": [
      "WARNING: You are using pip version 21.1.3; however, version 23.1.2 is available.\n",
      "You should consider upgrading via the 'c:\\users\\hijaz tr\\desktop\\cadcadproject1\\abcde\\scripts\\python.exe -m pip install --upgrade pip' command.\n"
     ]
    }
   ],
   "source": [
    "!pip install mesa"
   ]
  },
  {
   "cell_type": "code",
   "execution_count": 3,
   "metadata": {},
   "outputs": [
    {
     "name": "stderr",
     "output_type": "stream",
     "text": [
      "Usage: mesa runserver [OPTIONS] [PROJECT]\n",
      "Try 'mesa runserver --help' for help.\n",
      "\n",
      "Error: Invalid value for '[PROJECT]': Directory 'examples/wolf_sheep' does not exist.\n"
     ]
    }
   ],
   "source": [
    "!mesa runserver examples/wolf_sheep"
   ]
  },
  {
   "cell_type": "code",
   "execution_count": 9,
   "metadata": {},
   "outputs": [],
   "source": [
    "import csv\n",
    "import requests\n",
    "\n",
    "def get_uniswap_data(pool_id, number_of_days, url):\n",
    "    query = f\"\"\"\n",
    "    {{\n",
    "        poolDayDatas(where: {{ pool: \"{pool_id}\" }}, first: {number_of_days}, orderBy: date, orderDirection: desc) {{\n",
    "            date\n",
    "            tick\n",
    "            sqrtPrice\n",
    "            liquidity\n",
    "            volumeUSD\n",
    "            volumeToken0\n",
    "            volumeToken1\n",
    "            tvlUSD\n",
    "            feesUSD\n",
    "            close\n",
    "            open\n",
    "            low\n",
    "            high\n",
    "        }}\n",
    "    }}\n",
    "    \"\"\"\n",
    "    response = requests.post(url, json={'query': query})\n",
    "    data = response.json()\n",
    "\n",
    "    return data['data']['poolDayDatas']\n",
    "\n",
    "def save_data_to_csv(data, file_path):\n",
    "    keys = data[0].keys()\n",
    "    with open(file_path, 'w', newline='') as csv_file:\n",
    "        writer = csv.DictWriter(csv_file, fieldnames=keys)\n",
    "        writer.writeheader()\n",
    "        writer.writerows(data)\n",
    "\n",
    "# Example usage\n",
    "pool_id = \"0x68f5c0a2de713a54991e01858fd27a3832401849\"\n",
    "number_of_days = 1000\n",
    "url = \"https://api.thegraph.com/subgraphs/name/ianlapham/optimism-post-regenesis\"\n",
    "file_path = \"uniswap_data_control(OP_weth).csv\"\n",
    "\n",
    "data = get_uniswap_data(pool_id, number_of_days, url)\n",
    "save_data_to_csv(data, file_path)\n"
   ]
  }
 ],
 "metadata": {
  "kernelspec": {
   "display_name": "abcde",
   "language": "python",
   "name": "python3"
  },
  "language_info": {
   "codemirror_mode": {
    "name": "ipython",
    "version": 3
   },
   "file_extension": ".py",
   "mimetype": "text/x-python",
   "name": "python",
   "nbconvert_exporter": "python",
   "pygments_lexer": "ipython3",
   "version": "3.9.6"
  },
  "orig_nbformat": 4
 },
 "nbformat": 4,
 "nbformat_minor": 2
}
